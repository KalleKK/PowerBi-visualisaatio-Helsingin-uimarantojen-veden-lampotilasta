{
 "cells": [
  {
   "cell_type": "code",
   "execution_count": 1,
   "id": "45695574",
   "metadata": {},
   "outputs": [],
   "source": [
    "import requests\n",
    "import pyodbc\n",
    "import sqlalchemy as sal\n",
    "\n",
    "import time\n",
    "import pandas as pd\n",
    "from sqlalchemy import create_engine\n"
   ]
  },
  {
   "cell_type": "code",
   "execution_count": 2,
   "id": "487d9a58",
   "metadata": {},
   "outputs": [],
   "source": [
    "# Datan Lähde https://www.avoindata.fi/data/fi/dataset/veden-reaaliaikainen-lampotila-helsingin-uimarannoilla/resource/f0e3b610-e0a7-44c7-917a-e1307474dac9\n",
    "# Data pitää sisällään Helsingin rantojen ilman - ja veden lämpeyden. Data päivittyy automaattisesti puolen tunnin välein. "
   ]
  },
  {
   "cell_type": "code",
   "execution_count": 3,
   "id": "a6783c84",
   "metadata": {
    "tags": []
   },
   "outputs": [],
   "source": [
    "#Alla oleva koodi puskee automaattisesti uuden rivin mssql taulukkoon joka toinen minuutti, käyden rannat läpi yksitellen. Puskettu data pitää sisällään ajan, ilman lämmön, veden lämmön sekä Uimaranta_ID:n. \n",
    "\n",
    "#Puskettu rivi pitää sisällään Get requestilla haetun tiedon yllä olevasta lähteestä, mikä on muotoiltu Pandas DataFrameksi"
   ]
  },
  {
   "cell_type": "code",
   "execution_count": null,
   "id": "3f9a3a6f",
   "metadata": {
    "tags": []
   },
   "outputs": [
    {
     "name": "stdout",
     "output_type": "stream",
     "text": [
      "                  time  temp_air  temp_water  Uimaranta_ID\n",
      "0  2021/07/29 18:43:36     21.79        16.5             1\n",
      "                  time  temp_air  temp_water  Uimaranta_ID\n",
      "0  2021/07/29 18:53:46     23.14        16.5             2\n",
      "                  time  temp_air  temp_water  Uimaranta_ID\n",
      "0  2021/07/29 18:49:06     21.66       17.18             3\n",
      "                  time  temp_air  temp_water  Uimaranta_ID\n",
      "0  2021/07/29 18:58:32      21.1          18             4\n",
      "                  time  temp_air  temp_water  Uimaranta_ID\n",
      "0  2021/07/29 19:18:21     22.63       22.56             5\n",
      "                  time  temp_air  temp_water  air_rh  air_temp  Uimaranta_ID\n",
      "0  2021/07/29 18:54:05     22.19       23.37    75.5     22.38             6\n",
      "                  time  temp_air  temp_water  air_rh  air_temp  Uimaranta_ID\n",
      "0  2021/07/29 19:11:40     26.46       23.56    92.5     23.42             7\n",
      "                  time  temp_air  temp_water  Uimaranta_ID\n",
      "0  2021/07/29 18:56:57      23.3       21.75             8\n",
      "                  time  temp_air  temp_water  Uimaranta_ID\n",
      "0  2021/07/29 19:13:37     16.27       16.56             1\n",
      "                  time  temp_air  temp_water  Uimaranta_ID\n",
      "0  2021/07/29 19:23:47     23.19        16.5             2\n",
      "                  time  temp_air  temp_water  Uimaranta_ID\n",
      "0  2021/07/29 19:19:06     21.69       17.31             3\n",
      "                  time  temp_air  temp_water  Uimaranta_ID\n",
      "0  2021/07/29 19:28:33      21.1       18.06             4\n",
      "                  time  temp_air  temp_water  Uimaranta_ID\n",
      "0  2021/07/29 19:28:21     22.61       22.56             5\n",
      "                  time  temp_air  temp_water  air_rh  air_temp  Uimaranta_ID\n",
      "0  2021/07/29 19:24:05     21.94       23.18    71.5     22.38             6\n",
      "                  time  temp_air  temp_water  air_rh  air_temp  Uimaranta_ID\n",
      "0  2021/07/29 19:11:40     26.46       23.56    92.5     23.42             7\n"
     ]
    }
   ],
   "source": [
    "linkit=['https://iot.fvh.fi/opendata/uiras/70B3D57050004DF8_v1.json','https://iot.fvh.fi/opendata/uiras/70B3D57050004DF2_v1.json','https://iot.fvh.fi/opendata/uiras/70B3D57050004D86_v1.json','https://iot.fvh.fi/opendata/uiras/70B3D57050001A97_v1.json','https://iot.fvh.fi/opendata/uiras/70B3D57050001AB9_v1.json','https://iot.fvh.fi/opendata/uiras/70B3D57050001ADA_v1.json','https://iot.fvh.fi/opendata/uiras/70B3D57050001BA6_v1.json','https://iot.fvh.fi/opendata/uiras/70B3D57050001BBE_v1.json']\n",
    "\n",
    "engine = sal.create_engine(\"mssql+pyodbc://DESKTOP-M2OVDA0/TestausDATABASE?driver=SQL Server?Trusted_Connection=yes\")\n",
    "\n",
    "while True:\n",
    "    try:\n",
    "        asd=1\n",
    "        for url in linkit:\n",
    "            data = requests.get(url)\n",
    "            data=data.json()\n",
    "            data=data['data'][-1]\n",
    "            df = pd.DataFrame(data, index=[0])\n",
    "            df['Uimaranta_ID'] = asd\n",
    "            asd+=1\n",
    "            df['time'] = pd.to_datetime(df.time)\n",
    "            df['time'] = df['time'].dt.strftime('%Y/%m/%d %H:%M:%S')\n",
    "\n",
    "            df.to_sql(con=engine, name='uimarannat', if_exists='append')\n",
    "            print(df)\n",
    "            time.sleep(120)\n",
    "            \n",
    "    except:\n",
    "        print(\"error\")"
   ]
  },
  {
   "cell_type": "code",
   "execution_count": null,
   "id": "a3cba914",
   "metadata": {},
   "outputs": [],
   "source": [
    "#Alla oleva koodi taas puskee toiseen SQL-taulukkoon uimarannan nimen sekä saman Uimaranta_ID:n mikä on ylemmässä koodissa. Tämän idn avulla kykenen yhdistämään kolumnit suhteeksi myöhemmin dataa visualisoidessa. \n"
   ]
  },
  {
   "cell_type": "code",
   "execution_count": null,
   "id": "5d871ea6",
   "metadata": {
    "tags": []
   },
   "outputs": [],
   "source": [
    "linkit=['https://iot.fvh.fi/opendata/uiras/70B3D57050004DF8_v1.json','https://iot.fvh.fi/opendata/uiras/70B3D57050004DF2_v1.json','https://iot.fvh.fi/opendata/uiras/70B3D57050004D86_v1.json','https://iot.fvh.fi/opendata/uiras/70B3D57050001A97_v1.json','https://iot.fvh.fi/opendata/uiras/70B3D57050001AB9_v1.json','https://iot.fvh.fi/opendata/uiras/70B3D57050001ADA_v1.json','https://iot.fvh.fi/opendata/uiras/70B3D57050001BA6_v1.json','https://iot.fvh.fi/opendata/uiras/70B3D57050001BBE_v1.json']\n",
    "\n",
    "engine = sal.create_engine(\"mssql+pyodbc://DESKTOP-M2OVDA0/TestausDATABASE?driver=SQL Server?Trusted_Connection=yes\")\n",
    "\n",
    "asd=1\n",
    "for url in linkit:\n",
    "    data = requests.get(url)\n",
    "    data=data.json()\n",
    "    meta=[data['meta']['name']]\n",
    "\n",
    "    df = pd.DataFrame(meta, columns=['Uimarannan nimi'])\n",
    "    df['Uimaranta_ID'] = asd\n",
    "    asd+=1\n",
    "    df.to_sql(con=engine, name='Uimranta_ID', if_exists='append')\n",
    "    print(df)"
   ]
  },
  {
   "cell_type": "code",
   "execution_count": null,
   "id": "806337ca",
   "metadata": {},
   "outputs": [],
   "source": []
  }
 ],
 "metadata": {
  "kernelspec": {
   "display_name": "Python 3",
   "language": "python",
   "name": "python3"
  },
  "language_info": {
   "codemirror_mode": {
    "name": "ipython",
    "version": 3
   },
   "file_extension": ".py",
   "mimetype": "text/x-python",
   "name": "python",
   "nbconvert_exporter": "python",
   "pygments_lexer": "ipython3",
   "version": "3.7.10"
  },
  "widgets": {
   "application/vnd.jupyter.widget-state+json": {
    "state": {},
    "version_major": 2,
    "version_minor": 0
   }
  }
 },
 "nbformat": 4,
 "nbformat_minor": 5
}
